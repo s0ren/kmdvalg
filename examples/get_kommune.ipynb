{
 "cells": [
  {
   "cell_type": "markdown",
   "metadata": {},
   "source": [
    "# Get import"
   ]
  },
  {
   "cell_type": "code",
   "execution_count": 1,
   "metadata": {
    "collapsed": false
   },
   "outputs": [
    {
     "name": "stdout",
     "output_type": "stream",
     "text": [
      "Path appended. This is dev code.\n"
     ]
    }
   ],
   "source": [
    "try:\n",
    "    from kmdvalg import kommune\n",
    "except ImportError:\n",
    "    import sys, os\n",
    "    sys.path.append( os.getcwd()+os.sep+\"..\")\n",
    "    print(\"Path appended. This is dev code.\")"
   ]
  },
  {
   "cell_type": "markdown",
   "metadata": {},
   "source": [
    "# Get import"
   ]
  },
  {
   "cell_type": "code",
   "execution_count": 2,
   "metadata": {
    "collapsed": false
   },
   "outputs": [],
   "source": [
    "from kmdvalg import kommune"
   ]
  },
  {
   "cell_type": "markdown",
   "metadata": {},
   "source": [
    "# Get kommune list"
   ]
  },
  {
   "cell_type": "code",
   "execution_count": 3,
   "metadata": {
    "collapsed": false
   },
   "outputs": [
    {
     "name": "stdout",
     "output_type": "stream",
     "text": [
      "['A', 'Albertslund', 'https://www.kmdvalg.dk/kv/2017/K84982165.htm']\n",
      "['A', 'Allerød', 'https://www.kmdvalg.dk/kv/2017/K84982201.htm']\n",
      "['A', 'Assens', 'https://www.kmdvalg.dk/kv/2017/K84733420.htm']\n",
      "['B', 'Ballerup', 'https://www.kmdvalg.dk/kv/2017/K84982151.htm']\n",
      "['B', 'Billund', 'https://www.kmdvalg.dk/kv/2017/K84733530.htm']\n",
      "['B', 'Bornholm', 'https://www.kmdvalg.dk/kv/2017/K84982400.htm']\n",
      "['B', 'Brøndby', 'https://www.kmdvalg.dk/kv/2017/K84982153.htm']\n",
      "['B', 'Brønderslev', 'https://www.kmdvalg.dk/kv/2017/K84712810.htm']\n",
      "['D', 'Dragør', 'https://www.kmdvalg.dk/kv/2017/K84982155.htm']\n",
      "['E', 'Egedal', 'https://www.kmdvalg.dk/kv/2017/K84982240.htm']\n",
      "['E', 'Esbjerg', 'https://www.kmdvalg.dk/kv/2017/K84733561.htm']\n",
      "['F', 'Fanø', 'https://www.kmdvalg.dk/kv/2017/K84733563.htm']\n",
      "['F', 'Favrskov', 'https://www.kmdvalg.dk/kv/2017/K84713710.htm']\n",
      "['F', 'Faxe', 'https://www.kmdvalg.dk/kv/2017/K84979320.htm']\n",
      "['F', 'Fredensborg', 'https://www.kmdvalg.dk/kv/2017/K84982210.htm']\n",
      "['F', 'Fredericia', 'https://www.kmdvalg.dk/kv/2017/K84733607.htm']\n",
      "['F', 'Frederiksberg', 'https://www.kmdvalg.dk/kv/2017/K84982147.htm']\n",
      "['F', 'Frederikshavn', 'https://www.kmdvalg.dk/kv/2017/K84712813.htm']\n",
      "['F', 'Frederikssund', 'https://www.kmdvalg.dk/kv/2017/K84982250.htm']\n",
      "['F', 'Furesø', 'https://www.kmdvalg.dk/kv/2017/K84982190.htm']\n",
      "['F', 'Faaborg-Midtfyn', 'https://www.kmdvalg.dk/kv/2017/K84733430.htm']\n",
      "['G', 'Gentofte', 'https://www.kmdvalg.dk/kv/2017/K84982157.htm']\n",
      "['G', 'Gladsaxe', 'https://www.kmdvalg.dk/kv/2017/K84982159.htm']\n",
      "['G', 'Glostrup', 'https://www.kmdvalg.dk/kv/2017/K84982161.htm']\n",
      "['G', 'Greve', 'https://www.kmdvalg.dk/kv/2017/K84979253.htm']\n",
      "['G', 'Gribskov', 'https://www.kmdvalg.dk/kv/2017/K84982270.htm']\n",
      "['G', 'Guldborgsund', 'https://www.kmdvalg.dk/kv/2017/K84979376.htm']\n",
      "['H', 'Haderslev', 'https://www.kmdvalg.dk/kv/2017/K84733510.htm']\n",
      "['H', 'Halsnæs', 'https://www.kmdvalg.dk/kv/2017/K84982260.htm']\n",
      "['H', 'Hedensted', 'https://www.kmdvalg.dk/kv/2017/K84713766.htm']\n",
      "['H', 'Helsingør', 'https://www.kmdvalg.dk/kv/2017/K84982217.htm']\n",
      "['H', 'Herlev', 'https://www.kmdvalg.dk/kv/2017/K84982163.htm']\n",
      "['H', 'Herning', 'https://www.kmdvalg.dk/kv/2017/K84713657.htm']\n",
      "['H', 'Hillerød', 'https://www.kmdvalg.dk/kv/2017/K84982219.htm']\n",
      "['H', 'Hjørring', 'https://www.kmdvalg.dk/kv/2017/K84712860.htm']\n",
      "['H', 'Holbæk', 'https://www.kmdvalg.dk/kv/2017/K84979316.htm']\n",
      "['H', 'Holstebro', 'https://www.kmdvalg.dk/kv/2017/K84713661.htm']\n",
      "['H', 'Horsens', 'https://www.kmdvalg.dk/kv/2017/K84713615.htm']\n",
      "['H', 'Hvidovre', 'https://www.kmdvalg.dk/kv/2017/K84982167.htm']\n",
      "['H', 'Høje-Taastrup', 'https://www.kmdvalg.dk/kv/2017/K84982169.htm']\n",
      "['H', 'Hørsholm', 'https://www.kmdvalg.dk/kv/2017/K84982223.htm']\n",
      "['I', 'Ikast-Brande', 'https://www.kmdvalg.dk/kv/2017/K84713756.htm']\n",
      "['I', 'Ishøj', 'https://www.kmdvalg.dk/kv/2017/K84982183.htm']\n",
      "['J', 'Jammerbugt', 'https://www.kmdvalg.dk/kv/2017/K84712849.htm']\n",
      "['K', 'Kalundborg', 'https://www.kmdvalg.dk/kv/2017/K84979326.htm']\n",
      "['K', 'Kerteminde', 'https://www.kmdvalg.dk/kv/2017/K84733440.htm']\n",
      "['K', 'Kolding', 'https://www.kmdvalg.dk/kv/2017/K84733621.htm']\n",
      "['K', 'København', 'https://www.kmdvalg.dk/kv/2017/K84982101.htm']\n",
      "['K', 'Køge', 'https://www.kmdvalg.dk/kv/2017/K84979259.htm']\n",
      "['L', 'Langeland', 'https://www.kmdvalg.dk/kv/2017/K84733482.htm']\n",
      "['L', 'Lejre', 'https://www.kmdvalg.dk/kv/2017/K84979350.htm']\n",
      "['L', 'Lemvig', 'https://www.kmdvalg.dk/kv/2017/K84713665.htm']\n",
      "['L', 'Lolland', 'https://www.kmdvalg.dk/kv/2017/K84979360.htm']\n",
      "['L', 'Lyngby-Taarbæk', 'https://www.kmdvalg.dk/kv/2017/K84982173.htm']\n",
      "['L', 'Læsø', 'https://www.kmdvalg.dk/kv/2017/K84712825.htm']\n",
      "['M', 'Mariagerfjord', 'https://www.kmdvalg.dk/kv/2017/K84712846.htm']\n",
      "['M', 'Middelfart', 'https://www.kmdvalg.dk/kv/2017/K84733410.htm']\n",
      "['M', 'Morsø', 'https://www.kmdvalg.dk/kv/2017/K84712773.htm']\n",
      "['N', 'Norddjurs', 'https://www.kmdvalg.dk/kv/2017/K84713707.htm']\n",
      "['N', 'Nordfyns', 'https://www.kmdvalg.dk/kv/2017/K84733480.htm']\n",
      "['N', 'Nyborg', 'https://www.kmdvalg.dk/kv/2017/K84733450.htm']\n",
      "['N', 'Næstved', 'https://www.kmdvalg.dk/kv/2017/K84979370.htm']\n",
      "['O', 'Odder', 'https://www.kmdvalg.dk/kv/2017/K84713727.htm']\n",
      "['O', 'Odense', 'https://www.kmdvalg.dk/kv/2017/K84733461.htm']\n",
      "['O', 'Odsherred', 'https://www.kmdvalg.dk/kv/2017/K84979306.htm']\n",
      "['R', 'Randers', 'https://www.kmdvalg.dk/kv/2017/K84713730.htm']\n",
      "['R', 'Rebild', 'https://www.kmdvalg.dk/kv/2017/K84712840.htm']\n",
      "['R', 'Ringkøbing-Skjern', 'https://www.kmdvalg.dk/kv/2017/K84713760.htm']\n",
      "['R', 'Ringsted', 'https://www.kmdvalg.dk/kv/2017/K84979329.htm']\n",
      "['R', 'Roskilde', 'https://www.kmdvalg.dk/kv/2017/K84979265.htm']\n",
      "['R', 'Rudersdal', 'https://www.kmdvalg.dk/kv/2017/K84982230.htm']\n",
      "['R', 'Rødovre', 'https://www.kmdvalg.dk/kv/2017/K84982175.htm']\n",
      "['S', 'Samsø', 'https://www.kmdvalg.dk/kv/2017/K84713741.htm']\n",
      "['S', 'Silkeborg', 'https://www.kmdvalg.dk/kv/2017/K84713740.htm']\n",
      "['S', 'Skanderborg', 'https://www.kmdvalg.dk/kv/2017/K84713746.htm']\n",
      "['S', 'Skive', 'https://www.kmdvalg.dk/kv/2017/K84713779.htm']\n",
      "['S', 'Slagelse', 'https://www.kmdvalg.dk/kv/2017/K84979330.htm']\n",
      "['S', 'Solrød', 'https://www.kmdvalg.dk/kv/2017/K84979269.htm']\n",
      "['S', 'Sorø', 'https://www.kmdvalg.dk/kv/2017/K84979340.htm']\n",
      "['S', 'Stevns', 'https://www.kmdvalg.dk/kv/2017/K84979336.htm']\n",
      "['S', 'Struer', 'https://www.kmdvalg.dk/kv/2017/K84713671.htm']\n",
      "['S', 'Svendborg', 'https://www.kmdvalg.dk/kv/2017/K84733479.htm']\n",
      "['S', 'Syddjurs', 'https://www.kmdvalg.dk/kv/2017/K84713706.htm']\n",
      "['S', 'Sønderborg', 'https://www.kmdvalg.dk/kv/2017/K84733540.htm']\n",
      "['T', 'Thisted', 'https://www.kmdvalg.dk/kv/2017/K84712787.htm']\n",
      "['T', 'Tønder', 'https://www.kmdvalg.dk/kv/2017/K84733550.htm']\n",
      "['T', 'Tårnby', 'https://www.kmdvalg.dk/kv/2017/K84982185.htm']\n",
      "['V', 'Vallensbæk', 'https://www.kmdvalg.dk/kv/2017/K84982187.htm']\n",
      "['V', 'Varde', 'https://www.kmdvalg.dk/kv/2017/K84733573.htm']\n",
      "['V', 'Vejen', 'https://www.kmdvalg.dk/kv/2017/K84733575.htm']\n",
      "['V', 'Vejle', 'https://www.kmdvalg.dk/kv/2017/K84733630.htm']\n",
      "['V', 'Vesthimmerlands', 'https://www.kmdvalg.dk/kv/2017/K84712820.htm']\n",
      "['V', 'Viborg', 'https://www.kmdvalg.dk/kv/2017/K84713791.htm']\n",
      "['V', 'Vordingborg', 'https://www.kmdvalg.dk/kv/2017/K84979390.htm']\n",
      "['Æ', 'Ærø', 'https://www.kmdvalg.dk/kv/2017/K84733492.htm']\n",
      "['Å', 'Aabenraa', 'https://www.kmdvalg.dk/kv/2017/K84733580.htm']\n",
      "['Å', 'Aalborg', 'https://www.kmdvalg.dk/kv/2017/K84712851.htm']\n",
      "['Å', 'Aarhus', 'https://www.kmdvalg.dk/kv/2017/K84713751.htm']\n"
     ]
    }
   ],
   "source": [
    "data = kommune.data()\n",
    "\n",
    "# Extract from variable\n",
    "data.get_kommuner()\n",
    "kommuner = data.kommuner\n",
    "for k in kommuner:\n",
    "    print(k)"
   ]
  },
  {
   "cell_type": "markdown",
   "metadata": {},
   "source": [
    "# Get info from københavn"
   ]
  },
  {
   "cell_type": "code",
   "execution_count": 4,
   "metadata": {
    "collapsed": false
   },
   "outputs": [
    {
     "name": "stdout",
     "output_type": "stream",
     "text": [
      "stemme_pct ['Stemme pct.', 61.88]\n",
      "Antal_stemmeberettigede ['Antal stemmeberettigede:', 493719]\n",
      "I_alt_afgivne_stemmer ['I alt afgivne stemmer:', 305502]\n",
      "I_alt_gyldige_stemmer ['I alt gyldige stemmer:', 300216]\n",
      "Afstemningsomr ['AfstemningsomrÃ¥der:', 50]\n",
      "kommune ['Kommune', 'København']\n"
     ]
    }
   ],
   "source": [
    "dic_cph = data.get_kommune_dic('København')\n",
    "for key in dic_cph:\n",
    "    print(key, dic_cph[key])"
   ]
  },
  {
   "cell_type": "markdown",
   "metadata": {},
   "source": [
    "# Get info all kommuner, synchronous mode"
   ]
  },
  {
   "cell_type": "code",
   "execution_count": 5,
   "metadata": {
    "collapsed": false
   },
   "outputs": [
    {
     "name": "stdout",
     "output_type": "stream",
     "text": [
      "Kommune data exists. Reading it.\n"
     ]
    }
   ],
   "source": [
    "#df_sync = data.get_kommuner_df(make=True, async=False)\n",
    "df_sync = data.get_kommuner_df(async=False)\n",
    "#print(df_sync)"
   ]
  },
  {
   "cell_type": "markdown",
   "metadata": {},
   "source": [
    "# Get info all kommuner, asyncio"
   ]
  },
  {
   "cell_type": "code",
   "execution_count": 6,
   "metadata": {
    "collapsed": false
   },
   "outputs": [
    {
     "name": "stdout",
     "output_type": "stream",
     "text": [
      "Kommune data missing. Creating it.\n",
      "Are asyncio equal to sync?: True\n"
     ]
    }
   ],
   "source": [
    "df_async = data.get_kommuner_df(make=True, async=True)\n",
    "#df_async = data.get_kommuner_df(async=True)\n",
    "#print(df_async)\n",
    "\n",
    "is_equal = df_sync.equals(df_async)\n",
    "print(\"Are asyncio equal to sync?:\", is_equal)\n",
    "\n",
    "if not is_equal:\n",
    "    print(df_sync)\n",
    "    print(df_async)"
   ]
  }
 ],
 "metadata": {},
 "nbformat": 4,
 "nbformat_minor": 2
}
